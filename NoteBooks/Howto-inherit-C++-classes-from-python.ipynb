{
 "cells": [
  {
   "cell_type": "markdown",
   "metadata": {},
   "source": [
    "## Inheriting C++ classes from Python\n",
    "In this exercise we would like to demostrate the inheritance of a C++ class from Python. The base class in C++ is `Base` and we want to have an specialization of if in Python `PyDerived` "
   ]
  },
  {
   "cell_type": "code",
   "execution_count": 1,
   "metadata": {
    "collapsed": false
   },
   "outputs": [
    {
     "name": "stdout",
     "output_type": "stream",
     "text": [
      "Welcome to ROOTaas Beta\n"
     ]
    }
   ],
   "source": [
    "from ROOTaaS.iPyROOT import ROOT"
   ]
  },
  {
   "cell_type": "markdown",
   "metadata": {},
   "source": [
    "To bridge between the C++ and Python virtual functions we need to define a proper C++ class that will forward the virtual function calls to the the Python object. The only trick here is that this C++ class needs to have a constructor to receive the `self` from the Python object for use afterwords.\n",
    "The implemetation is done completely in C++ with the next block."
   ]
  },
  {
   "cell_type": "code",
   "execution_count": 2,
   "metadata": {
    "collapsed": false
   },
   "outputs": [
    {
     "data": {
      "text/plain": [
       "True"
      ]
     },
     "execution_count": 2,
     "metadata": {},
     "output_type": "execute_result"
    }
   ],
   "source": [
    "%%dcl\n",
    "#include \"TObject.h\"\n",
    "#include \"Python.h\"\n",
    "#include <stdexcept>\n",
    "void call_python_method(PyObject* self, const char* method)\n",
    "{\n",
    "   // check arguments\n",
    "   if ( 0 == self || 0 == method ) { throw std::runtime_error(\"Invalid Python object and method\"); }\n",
    "   // call Python\n",
    "   PyObject* r = PyObject_CallMethod(self, const_cast<char*>(method), const_cast<char*>(\"\"));\n",
    "   if ( 0 == r ) { PyErr_Print(); return;}\n",
    "   // release used objects\n",
    "   Py_XDECREF( r ) ;\n",
    "   //\n",
    "   return;\n",
    "}\n",
    "\n",
    "class Base {\n",
    " public:\n",
    "   Base() {}\n",
    "   virtual ~Base() {}\n",
    "   virtual void Foo() { cout << \"base::Foo\" << endl; }\n",
    "   void CallFoo() { this->Foo(); }\n",
    "};\n",
    "\n",
    "class PyBase : public Base {\n",
    " public:\n",
    "   PyBase(PyObject* self) : fSelf(self) {}\n",
    "   virtual ~PyBase() {}\n",
    "   virtual void Foo() { call_python_method(fSelf,\"Foo\"); }\n",
    " private:\n",
    "   PyObject* fSelf;\n",
    "};\n"
   ]
  },
  {
   "cell_type": "markdown",
   "metadata": {},
   "source": [
    "Now we define the python `PyDerived` class that inherits from the just declared C++ `PyBase`"
   ]
  },
  {
   "cell_type": "code",
   "execution_count": 3,
   "metadata": {
    "collapsed": true
   },
   "outputs": [],
   "source": [
    "class PyDerived(ROOT.PyBase):\n",
    "   def __init__(self): ROOT.PyBase.__init__(self, self)\n",
    "   def Foo(self): print 'Python::Foo'\n"
   ]
  },
  {
   "cell_type": "markdown",
   "metadata": {},
   "source": [
    "Now that we have the two classes defined (`Base` and `PyDerived`) we exercise calling the `Foo` method."
   ]
  },
  {
   "cell_type": "code",
   "execution_count": 4,
   "metadata": {
    "collapsed": false
   },
   "outputs": [
    {
     "name": "stdout",
     "output_type": "stream",
     "text": [
      "Python::Foo\n",
      "base::Foo\n"
     ]
    }
   ],
   "source": [
    "o = ROOT.Base()\n",
    "o.CallFoo()\n",
    "d = PyDerived()\n",
    "d.CallFoo()"
   ]
  },
  {
   "cell_type": "markdown",
   "metadata": {},
   "source": [
    "If we put the objects in a `std::vector<Base*>` we can exercise true polymorphic access from the C++ side"
   ]
  },
  {
   "cell_type": "code",
   "execution_count": 5,
   "metadata": {
    "collapsed": false
   },
   "outputs": [
    {
     "name": "stdout",
     "output_type": "stream",
     "text": [
      "Python::Foo\n",
      "base::Foo\n"
     ]
    }
   ],
   "source": [
    "v = ROOT.vector('Base*')()\n",
    "v.push_back(o)\n",
    "v.push_back(d)\n",
    "for i in v : i.Foo()"
   ]
  },
  {
   "cell_type": "markdown",
   "metadata": {},
   "source": [
    "Notice that the printout order is not correct (there is a bug in the current ROOTaaS implementation) becuase the Python output somehow overtakes the C++ generated output."
   ]
  }
 ],
 "metadata": {
  "kernelspec": {
   "display_name": "Python 2",
   "language": "python",
   "name": "python2"
  },
  "language_info": {
   "codemirror_mode": {
    "name": "ipython",
    "version": 2
   },
   "file_extension": ".py",
   "mimetype": "text/x-python",
   "name": "python",
   "nbconvert_exporter": "python",
   "pygments_lexer": "ipython2",
   "version": "2.7.6"
  }
 },
 "nbformat": 4,
 "nbformat_minor": 0
}
